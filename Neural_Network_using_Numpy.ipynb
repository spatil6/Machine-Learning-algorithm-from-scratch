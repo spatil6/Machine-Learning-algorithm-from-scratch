{
 "cells": [
  {
   "cell_type": "markdown",
   "metadata": {},
   "source": [
    "## Neural Network implementation using numpy"
   ]
  },
  {
   "cell_type": "code",
   "execution_count": 12,
   "metadata": {
    "collapsed": true
   },
   "outputs": [],
   "source": [
    "#import required libraries\n",
    "import numpy as np"
   ]
  },
  {
   "cell_type": "code",
   "execution_count": 13,
   "metadata": {
    "collapsed": true
   },
   "outputs": [],
   "source": [
    "#Sample input and output\n",
    "X=np.array([[1,0,1,1],[1,1,0,0],[0,1,0,1],[1,1,1,0]])\n",
    "y=np.array([[1,1,0,0]])"
   ]
  },
  {
   "cell_type": "code",
   "execution_count": 14,
   "metadata": {
    "collapsed": true
   },
   "outputs": [],
   "source": [
    "#Weight Matrix\n",
    "#TO-DO : Different strategy to initialize weights\n",
    "w1=2*np.random.random((4,3))-1\n",
    "w2=2*np.random.random((3,2))-1\n",
    "w3=2*np.random.random((2,1))-1"
   ]
  },
  {
   "cell_type": "code",
   "execution_count": 15,
   "metadata": {
    "collapsed": true
   },
   "outputs": [],
   "source": [
    "#Activation function -> Sigmoid function \n",
    "#Sigmoid(x) = 1/(1+exp(-x))\n",
    "#To-Do : Diffrent activation function like tanh(Hyperbolic tangent), ReLU (Rectified Linear Unit )\n",
    "def sigmoid(input_x,input_y):\n",
    "    r_product=np.dot(input_x,input_y)\n",
    "    return 1/(1+np.exp(-r_product))"
   ]
  },
  {
   "cell_type": "code",
   "execution_count": 18,
   "metadata": {
    "collapsed": false
   },
   "outputs": [],
   "source": [
    "# Derivative- to calculate slope or rate of change of variable with others\n",
    "def derivative(input_x):\n",
    "    return (input_x*(1-input_x))"
   ]
  },
  {
   "cell_type": "code",
   "execution_count": 20,
   "metadata": {
    "collapsed": false
   },
   "outputs": [
    {
     "data": {
      "text/plain": [
       "array([[ 0.98813784],\n",
       "       [ 0.98638808],\n",
       "       [ 0.00872793],\n",
       "       [ 0.01097471]])"
      ]
     },
     "execution_count": 20,
     "metadata": {},
     "output_type": "execute_result"
    }
   ],
   "source": [
    "# Train neural network, update with back propagation.\n",
    "iteration=1000\n",
    "for x in range(iteration):\n",
    "    hw1=sigmoid(X,w1)\n",
    "    hw2=sigmoid(hw1,w2)\n",
    "    hw3=sigmoid(hw2,w3)\n",
    "    #calculate delta for last layer\n",
    "    opDelta=(y.T-hw3)*derivative(hw3)\n",
    "    Hw2Delta=opDelta.dot(w3.T)*derivative(hw2)\n",
    "    Hw1elta=Hw2Delta.dot(w2.T)*derivative(hw1)\n",
    "    w3+=hw2.T.dot(opDelta)\n",
    "    w2+=hw1.T.dot(Hw2Delta)\n",
    "    w1+=X.T.dot(Hw1elta)\n",
    "\n",
    "#output\n",
    "hw3"
   ]
  },
  {
   "cell_type": "code",
   "execution_count": null,
   "metadata": {
    "collapsed": true
   },
   "outputs": [],
   "source": []
  }
 ],
 "metadata": {
  "kernelspec": {
   "display_name": "Python [conda root]",
   "language": "python",
   "name": "conda-root-py"
  },
  "language_info": {
   "codemirror_mode": {
    "name": "ipython",
    "version": 3
   },
   "file_extension": ".py",
   "mimetype": "text/x-python",
   "name": "python",
   "nbconvert_exporter": "python",
   "pygments_lexer": "ipython3",
   "version": "3.5.2"
  }
 },
 "nbformat": 4,
 "nbformat_minor": 1
}
